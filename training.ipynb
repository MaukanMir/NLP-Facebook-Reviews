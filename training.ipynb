{
 "cells": [
  {
   "cell_type": "markdown",
   "metadata": {},
   "source": [
    "# NLP-Facebook-Reviews Sentiment Analysis"
   ]
  },
  {
   "cell_type": "markdown",
   "metadata": {},
   "source": [
    "# Imports"
   ]
  },
  {
   "cell_type": "code",
   "execution_count": 28,
   "metadata": {},
   "outputs": [],
   "source": [
    "import pandas as pd\n",
    "import numpy as np\n",
    "import seaborn as sns\n",
    "import matplotlib.pyplot as plt"
   ]
  },
  {
   "cell_type": "markdown",
   "metadata": {},
   "source": [
    "# Functions"
   ]
  },
  {
   "cell_type": "code",
   "execution_count": 29,
   "metadata": {},
   "outputs": [],
   "source": [
    "def check_class_imbalance(target):\n",
    "  \n",
    "  unique, counts = np.unique(target, return_counts=True)\n",
    "  plt.figure(figsize=(10, 7))\n",
    "  plt.pie(counts, labels=unique, startangle=140, autopct=\"%1.1f%%\")\n",
    "  plt.legend()\n",
    "  plt.show()\n",
    "  \n",
    "  plt.figure(figsize=(10, 7))\n",
    "  sns.countplot(x=target)\n",
    "  plt.xlabel(\"Target Class Breakdown\")\n",
    "  plt.ylabel(\"Counts\")\n",
    "  plt.xticks(rotation=45)\n",
    "  plt.show()\n",
    "\n",
    "def check_nulls_dupes(df):\n",
    "  print(f\"The Amount of Nulls: {df.isna().sum()}\")\n",
    "  print(f\"The Amount of Dupes: {df.duplicated().sum()}\")\n",
    "\n",
    "def aggregate_df(df, cols, agg, function):\n",
    "  \n",
    "  for col in cols:\n",
    "    plt.figure(figsize=(10, 7))\n",
    "    grouped_df = df.grouby(agg)[col].sum().reset_index() if function == \"sum\" else df.grouby(agg)[col].mean().reset_index()\n",
    "    sns.barplot(data=grouped_df, x=agg, y=col, hue=col)\n",
    "    plt.title(f\"Aggregation by {col}\")"
   ]
  },
  {
   "cell_type": "markdown",
   "metadata": {},
   "source": [
    "# EDA Analysis"
   ]
  },
  {
   "cell_type": "code",
   "execution_count": 30,
   "metadata": {},
   "outputs": [
    {
     "data": {
      "text/html": [
       "<div>\n",
       "<style scoped>\n",
       "    .dataframe tbody tr th:only-of-type {\n",
       "        vertical-align: middle;\n",
       "    }\n",
       "\n",
       "    .dataframe tbody tr th {\n",
       "        vertical-align: top;\n",
       "    }\n",
       "\n",
       "    .dataframe thead th {\n",
       "        text-align: right;\n",
       "    }\n",
       "</style>\n",
       "<table border=\"1\" class=\"dataframe\">\n",
       "  <thead>\n",
       "    <tr style=\"text-align: right;\">\n",
       "      <th></th>\n",
       "      <th>reviewId</th>\n",
       "      <th>userName</th>\n",
       "      <th>content</th>\n",
       "      <th>score</th>\n",
       "      <th>thumbsUpCount</th>\n",
       "      <th>reviewCreatedVersion</th>\n",
       "      <th>at</th>\n",
       "      <th>appVersion</th>\n",
       "    </tr>\n",
       "  </thead>\n",
       "  <tbody>\n",
       "    <tr>\n",
       "      <th>0</th>\n",
       "      <td>bdc80475-1569-4ab7-941d-1418df2037a9</td>\n",
       "      <td>Joyce A Shultz</td>\n",
       "      <td>Very good</td>\n",
       "      <td>5</td>\n",
       "      <td>3</td>\n",
       "      <td>462.0.0.47.85</td>\n",
       "      <td>2024-06-05 04:34:12</td>\n",
       "      <td>462.0.0.47.85</td>\n",
       "    </tr>\n",
       "    <tr>\n",
       "      <th>1</th>\n",
       "      <td>c730747d-e911-4f2a-9361-a1512d0a618a</td>\n",
       "      <td>Keran Rigby</td>\n",
       "      <td>KarenRigby</td>\n",
       "      <td>5</td>\n",
       "      <td>2</td>\n",
       "      <td>NaN</td>\n",
       "      <td>2024-06-04 14:36:57</td>\n",
       "      <td>NaN</td>\n",
       "    </tr>\n",
       "    <tr>\n",
       "      <th>2</th>\n",
       "      <td>0c63a71b-c9b4-4219-a123-38f95028e09b</td>\n",
       "      <td>MD Mahbub</td>\n",
       "      <td>D Good</td>\n",
       "      <td>5</td>\n",
       "      <td>0</td>\n",
       "      <td>NaN</td>\n",
       "      <td>2024-06-03 17:21:39</td>\n",
       "      <td>NaN</td>\n",
       "    </tr>\n",
       "    <tr>\n",
       "      <th>3</th>\n",
       "      <td>5c78dff6-df96-4b0d-b7b1-6e3b7d0604b4</td>\n",
       "      <td>Rodolfo Sanotajr</td>\n",
       "      <td>Jayar sanotajr</td>\n",
       "      <td>5</td>\n",
       "      <td>0</td>\n",
       "      <td>NaN</td>\n",
       "      <td>2024-06-03 12:13:41</td>\n",
       "      <td>NaN</td>\n",
       "    </tr>\n",
       "    <tr>\n",
       "      <th>4</th>\n",
       "      <td>29096648-1c2d-4252-b943-a51e99e21ec6</td>\n",
       "      <td>Fidaullah Gilgit</td>\n",
       "      <td>Good</td>\n",
       "      <td>5</td>\n",
       "      <td>1</td>\n",
       "      <td>466.1.0.57.85</td>\n",
       "      <td>2024-06-02 17:11:55</td>\n",
       "      <td>466.1.0.57.85</td>\n",
       "    </tr>\n",
       "    <tr>\n",
       "      <th>...</th>\n",
       "      <td>...</td>\n",
       "      <td>...</td>\n",
       "      <td>...</td>\n",
       "      <td>...</td>\n",
       "      <td>...</td>\n",
       "      <td>...</td>\n",
       "      <td>...</td>\n",
       "      <td>...</td>\n",
       "    </tr>\n",
       "    <tr>\n",
       "      <th>49995</th>\n",
       "      <td>c9f32a76-69e2-4a92-8846-a85ee1db5764</td>\n",
       "      <td>Novice novice</td>\n",
       "      <td>Very god</td>\n",
       "      <td>5</td>\n",
       "      <td>0</td>\n",
       "      <td>462.0.0.47.85</td>\n",
       "      <td>2024-05-10 13:59:37</td>\n",
       "      <td>462.0.0.47.85</td>\n",
       "    </tr>\n",
       "    <tr>\n",
       "      <th>49996</th>\n",
       "      <td>dc0a119c-67ee-463c-8303-0820f9e75a5d</td>\n",
       "      <td>Ravi kumar tiwari</td>\n",
       "      <td>It is okay, not good</td>\n",
       "      <td>1</td>\n",
       "      <td>0</td>\n",
       "      <td>336.0.0.20.117</td>\n",
       "      <td>2024-05-10 13:59:26</td>\n",
       "      <td>336.0.0.20.117</td>\n",
       "    </tr>\n",
       "    <tr>\n",
       "      <th>49997</th>\n",
       "      <td>6b4766ff-40f0-4c01-9483-627dae957b62</td>\n",
       "      <td>Mukhir Manloul</td>\n",
       "      <td>تطبيق ممتاز جدا جدا اتمنى ان يحظى بمزيد من الت...</td>\n",
       "      <td>5</td>\n",
       "      <td>0</td>\n",
       "      <td>462.0.0.47.85</td>\n",
       "      <td>2024-05-10 13:59:17</td>\n",
       "      <td>462.0.0.47.85</td>\n",
       "    </tr>\n",
       "    <tr>\n",
       "      <th>49998</th>\n",
       "      <td>e33c7fef-6a49-425e-aef9-9d16ec70c986</td>\n",
       "      <td>Akhil Gaming</td>\n",
       "      <td>very nice</td>\n",
       "      <td>5</td>\n",
       "      <td>0</td>\n",
       "      <td>463.0.0.45.85</td>\n",
       "      <td>2024-05-10 13:58:49</td>\n",
       "      <td>463.0.0.45.85</td>\n",
       "    </tr>\n",
       "    <tr>\n",
       "      <th>49999</th>\n",
       "      <td>5953e2c8-2954-4fdb-acca-c4a501364930</td>\n",
       "      <td>T m bac</td>\n",
       "      <td>Not good 1 star</td>\n",
       "      <td>1</td>\n",
       "      <td>0</td>\n",
       "      <td>457.0.0.54.84</td>\n",
       "      <td>2024-05-10 13:58:43</td>\n",
       "      <td>457.0.0.54.84</td>\n",
       "    </tr>\n",
       "  </tbody>\n",
       "</table>\n",
       "<p>50000 rows × 8 columns</p>\n",
       "</div>"
      ],
      "text/plain": [
       "                                   reviewId           userName  \\\n",
       "0      bdc80475-1569-4ab7-941d-1418df2037a9     Joyce A Shultz   \n",
       "1      c730747d-e911-4f2a-9361-a1512d0a618a        Keran Rigby   \n",
       "2      0c63a71b-c9b4-4219-a123-38f95028e09b          MD Mahbub   \n",
       "3      5c78dff6-df96-4b0d-b7b1-6e3b7d0604b4   Rodolfo Sanotajr   \n",
       "4      29096648-1c2d-4252-b943-a51e99e21ec6   Fidaullah Gilgit   \n",
       "...                                     ...                ...   \n",
       "49995  c9f32a76-69e2-4a92-8846-a85ee1db5764      Novice novice   \n",
       "49996  dc0a119c-67ee-463c-8303-0820f9e75a5d  Ravi kumar tiwari   \n",
       "49997  6b4766ff-40f0-4c01-9483-627dae957b62     Mukhir Manloul   \n",
       "49998  e33c7fef-6a49-425e-aef9-9d16ec70c986       Akhil Gaming   \n",
       "49999  5953e2c8-2954-4fdb-acca-c4a501364930            T m bac   \n",
       "\n",
       "                                                 content  score  \\\n",
       "0                                              Very good      5   \n",
       "1                                             KarenRigby      5   \n",
       "2                                                 D Good      5   \n",
       "3                                         Jayar sanotajr      5   \n",
       "4                                                   Good      5   \n",
       "...                                                  ...    ...   \n",
       "49995                                           Very god      5   \n",
       "49996                               It is okay, not good      1   \n",
       "49997  تطبيق ممتاز جدا جدا اتمنى ان يحظى بمزيد من الت...      5   \n",
       "49998                                          very nice      5   \n",
       "49999                                    Not good 1 star      1   \n",
       "\n",
       "       thumbsUpCount reviewCreatedVersion                   at      appVersion  \n",
       "0                  3        462.0.0.47.85  2024-06-05 04:34:12   462.0.0.47.85  \n",
       "1                  2                  NaN  2024-06-04 14:36:57             NaN  \n",
       "2                  0                  NaN  2024-06-03 17:21:39             NaN  \n",
       "3                  0                  NaN  2024-06-03 12:13:41             NaN  \n",
       "4                  1        466.1.0.57.85  2024-06-02 17:11:55   466.1.0.57.85  \n",
       "...              ...                  ...                  ...             ...  \n",
       "49995              0        462.0.0.47.85  2024-05-10 13:59:37   462.0.0.47.85  \n",
       "49996              0       336.0.0.20.117  2024-05-10 13:59:26  336.0.0.20.117  \n",
       "49997              0        462.0.0.47.85  2024-05-10 13:59:17   462.0.0.47.85  \n",
       "49998              0        463.0.0.45.85  2024-05-10 13:58:49   463.0.0.45.85  \n",
       "49999              0        457.0.0.54.84  2024-05-10 13:58:43   457.0.0.54.84  \n",
       "\n",
       "[50000 rows x 8 columns]"
      ]
     },
     "execution_count": 30,
     "metadata": {},
     "output_type": "execute_result"
    }
   ],
   "source": [
    "df = pd.read_csv(\"/Users/maukanmir/Downloads/facebook_reviews.csv\", nrows=50000)\n",
    "df"
   ]
  },
  {
   "cell_type": "markdown",
   "metadata": {},
   "source": [
    "# Check For Class Imbalance"
   ]
  },
  {
   "cell_type": "code",
   "execution_count": 31,
   "metadata": {},
   "outputs": [
    {
     "data": {
      "image/png": "[encoded data removed]",
      "text/plain": [
       "<Figure size 1000x700 with 1 Axes>"
      ]
     },
     "metadata": {},
     "output_type": "display_data"
    },
    {
     "data": {
      "image/png": "[encoded data removed]",
      "text/plain": [
       "<Figure size 1000x700 with 1 Axes>"
      ]
     },
     "metadata": {},
     "output_type": "display_data"
    }
   ],
   "source": [
    "check_class_imbalance(df[\"score\"])"
   ]
  },
  {
   "cell_type": "markdown",
   "metadata": {},
   "source": [
    "# Class Imbalance Exists"
   ]
  },
  {
   "cell_type": "markdown",
   "metadata": {},
   "source": [
    "# Check for Nulls and Dupes"
   ]
  },
  {
   "cell_type": "code",
   "execution_count": 32,
   "metadata": {},
   "outputs": [
    {
     "name": "stdout",
     "output_type": "stream",
     "text": [
      "The Amount of Nulls: reviewId                   0\n",
      "userName                   0\n",
      "content                    5\n",
      "score                      0\n",
      "thumbsUpCount              0\n",
      "reviewCreatedVersion    8509\n",
      "at                         0\n",
      "appVersion              8509\n",
      "dtype: int64\n",
      "The Amount of Dupes: 0\n"
     ]
    }
   ],
   "source": [
    "check_nulls_dupes(df)"
   ]
  },
  {
   "cell_type": "code",
   "execution_count": 33,
   "metadata": {},
   "outputs": [],
   "source": [
    "df.dropna(inplace=True)"
   ]
  },
  {
   "cell_type": "code",
   "execution_count": 34,
   "metadata": {},
   "outputs": [
    {
     "data": {
      "text/plain": [
       "(41488, 8)"
      ]
     },
     "execution_count": 34,
     "metadata": {},
     "output_type": "execute_result"
    }
   ],
   "source": [
    "df.shape"
   ]
  },
  {
   "cell_type": "code",
   "execution_count": 36,
   "metadata": {},
   "outputs": [],
   "source": [
    "df.drop(['reviewId', 'userName', 'reviewCreatedVersion', 'appVersion'], axis=1, inplace=True)"
   ]
  },
  {
   "cell_type": "code",
   "execution_count": 41,
   "metadata": {},
   "outputs": [],
   "source": [
    "df[\"len_content\"] = df[\"content\"].apply(lambda content: len(content))\n",
    "df[\"num_words\"] = df[\"content\"].apply(lambda content: len(content.split()))\n",
    "\n",
    "df[\"at\"] = pd.to_datetime(df[\"at\"])\n",
    "df[\"year\"] = df[\"at\"].dt.year\n",
    "df[\"month\"] = df[\"at\"].dt.month\n",
    "df[\"day\"] = df[\"at\"].dt.day\n",
    "df[\"hour\"] = df[\"at\"].dt.hour\n",
    "df.drop(\"at\", axis=1, inplace=True)"
   ]
  },
  {
   "cell_type": "code",
   "execution_count": 42,
   "metadata": {},
   "outputs": [
    {
     "data": {
      "text/html": [
       "<div>\n",
       "<style scoped>\n",
       "    .dataframe tbody tr th:only-of-type {\n",
       "        vertical-align: middle;\n",
       "    }\n",
       "\n",
       "    .dataframe tbody tr th {\n",
       "        vertical-align: top;\n",
       "    }\n",
       "\n",
       "    .dataframe thead th {\n",
       "        text-align: right;\n",
       "    }\n",
       "</style>\n",
       "<table border=\"1\" class=\"dataframe\">\n",
       "  <thead>\n",
       "    <tr style=\"text-align: right;\">\n",
       "      <th></th>\n",
       "      <th>content</th>\n",
       "      <th>score</th>\n",
       "      <th>thumbsUpCount</th>\n",
       "      <th>len_content</th>\n",
       "      <th>num_words</th>\n",
       "      <th>year</th>\n",
       "      <th>month</th>\n",
       "      <th>day</th>\n",
       "      <th>hour</th>\n",
       "    </tr>\n",
       "  </thead>\n",
       "  <tbody>\n",
       "    <tr>\n",
       "      <th>0</th>\n",
       "      <td>Very good</td>\n",
       "      <td>5</td>\n",
       "      <td>3</td>\n",
       "      <td>9</td>\n",
       "      <td>2</td>\n",
       "      <td>2024</td>\n",
       "      <td>6</td>\n",
       "      <td>5</td>\n",
       "      <td>4</td>\n",
       "    </tr>\n",
       "    <tr>\n",
       "      <th>4</th>\n",
       "      <td>Good</td>\n",
       "      <td>5</td>\n",
       "      <td>1</td>\n",
       "      <td>4</td>\n",
       "      <td>1</td>\n",
       "      <td>2024</td>\n",
       "      <td>6</td>\n",
       "      <td>2</td>\n",
       "      <td>17</td>\n",
       "    </tr>\n",
       "    <tr>\n",
       "      <th>6</th>\n",
       "      <td>Good Application</td>\n",
       "      <td>5</td>\n",
       "      <td>2</td>\n",
       "      <td>16</td>\n",
       "      <td>2</td>\n",
       "      <td>2024</td>\n",
       "      <td>6</td>\n",
       "      <td>2</td>\n",
       "      <td>8</td>\n",
       "    </tr>\n",
       "    <tr>\n",
       "      <th>7</th>\n",
       "      <td>Excellent job</td>\n",
       "      <td>5</td>\n",
       "      <td>2</td>\n",
       "      <td>13</td>\n",
       "      <td>2</td>\n",
       "      <td>2024</td>\n",
       "      <td>6</td>\n",
       "      <td>2</td>\n",
       "      <td>5</td>\n",
       "    </tr>\n",
       "    <tr>\n",
       "      <th>8</th>\n",
       "      <td>Great app ever!</td>\n",
       "      <td>5</td>\n",
       "      <td>2</td>\n",
       "      <td>15</td>\n",
       "      <td>3</td>\n",
       "      <td>2024</td>\n",
       "      <td>6</td>\n",
       "      <td>2</td>\n",
       "      <td>2</td>\n",
       "    </tr>\n",
       "    <tr>\n",
       "      <th>...</th>\n",
       "      <td>...</td>\n",
       "      <td>...</td>\n",
       "      <td>...</td>\n",
       "      <td>...</td>\n",
       "      <td>...</td>\n",
       "      <td>...</td>\n",
       "      <td>...</td>\n",
       "      <td>...</td>\n",
       "      <td>...</td>\n",
       "    </tr>\n",
       "    <tr>\n",
       "      <th>49995</th>\n",
       "      <td>Very god</td>\n",
       "      <td>5</td>\n",
       "      <td>0</td>\n",
       "      <td>8</td>\n",
       "      <td>2</td>\n",
       "      <td>2024</td>\n",
       "      <td>5</td>\n",
       "      <td>10</td>\n",
       "      <td>13</td>\n",
       "    </tr>\n",
       "    <tr>\n",
       "      <th>49996</th>\n",
       "      <td>It is okay, not good</td>\n",
       "      <td>1</td>\n",
       "      <td>0</td>\n",
       "      <td>20</td>\n",
       "      <td>5</td>\n",
       "      <td>2024</td>\n",
       "      <td>5</td>\n",
       "      <td>10</td>\n",
       "      <td>13</td>\n",
       "    </tr>\n",
       "    <tr>\n",
       "      <th>49997</th>\n",
       "      <td>تطبيق ممتاز جدا جدا اتمنى ان يحظى بمزيد من الت...</td>\n",
       "      <td>5</td>\n",
       "      <td>0</td>\n",
       "      <td>50</td>\n",
       "      <td>10</td>\n",
       "      <td>2024</td>\n",
       "      <td>5</td>\n",
       "      <td>10</td>\n",
       "      <td>13</td>\n",
       "    </tr>\n",
       "    <tr>\n",
       "      <th>49998</th>\n",
       "      <td>very nice</td>\n",
       "      <td>5</td>\n",
       "      <td>0</td>\n",
       "      <td>9</td>\n",
       "      <td>2</td>\n",
       "      <td>2024</td>\n",
       "      <td>5</td>\n",
       "      <td>10</td>\n",
       "      <td>13</td>\n",
       "    </tr>\n",
       "    <tr>\n",
       "      <th>49999</th>\n",
       "      <td>Not good 1 star</td>\n",
       "      <td>1</td>\n",
       "      <td>0</td>\n",
       "      <td>15</td>\n",
       "      <td>4</td>\n",
       "      <td>2024</td>\n",
       "      <td>5</td>\n",
       "      <td>10</td>\n",
       "      <td>13</td>\n",
       "    </tr>\n",
       "  </tbody>\n",
       "</table>\n",
       "<p>41488 rows × 9 columns</p>\n",
       "</div>"
      ],
      "text/plain": [
       "                                                 content  score  \\\n",
       "0                                              Very good      5   \n",
       "4                                                   Good      5   \n",
       "6                                       Good Application      5   \n",
       "7                                          Excellent job      5   \n",
       "8                                        Great app ever!      5   \n",
       "...                                                  ...    ...   \n",
       "49995                                           Very god      5   \n",
       "49996                               It is okay, not good      1   \n",
       "49997  تطبيق ممتاز جدا جدا اتمنى ان يحظى بمزيد من الت...      5   \n",
       "49998                                          very nice      5   \n",
       "49999                                    Not good 1 star      1   \n",
       "\n",
       "       thumbsUpCount  len_content  num_words  year  month  day  hour  \n",
       "0                  3            9          2  2024      6    5     4  \n",
       "4                  1            4          1  2024      6    2    17  \n",
       "6                  2           16          2  2024      6    2     8  \n",
       "7                  2           13          2  2024      6    2     5  \n",
       "8                  2           15          3  2024      6    2     2  \n",
       "...              ...          ...        ...   ...    ...  ...   ...  \n",
       "49995              0            8          2  2024      5   10    13  \n",
       "49996              0           20          5  2024      5   10    13  \n",
       "49997              0           50         10  2024      5   10    13  \n",
       "49998              0            9          2  2024      5   10    13  \n",
       "49999              0           15          4  2024      5   10    13  \n",
       "\n",
       "[41488 rows x 9 columns]"
      ]
     },
     "execution_count": 42,
     "metadata": {},
     "output_type": "execute_result"
    }
   ],
   "source": [
    "df"
   ]
  },
  {
   "cell_type": "code",
   "execution_count": 44,
   "metadata": {},
   "outputs": [
    {
     "data": {
      "text/plain": [
       "<AxesSubplot:xlabel='year', ylabel='Counts'>"
      ]
     },
     "execution_count": 44,
     "metadata": {},
     "output_type": "execute_result"
    },
    {
     "data": {
      "image/png": "[encoded data removed]",
      "text/plain": [
       "<Figure size 640x480 with 1 Axes>"
      ]
     },
     "metadata": {},
     "output_type": "display_data"
    }
   ],
   "source": [
    "df[\"year\"].value_counts().plot.bar(xlabel=\"year\", ylabel=\"Counts\")"
   ]
  },
  {
   "cell_type": "code",
   "execution_count": null,
   "metadata": {},
   "outputs": [],
   "source": [
    "sns.b"
   ]
  }
 ],
 "metadata": {
  "kernelspec": {
   "display_name": "machine-learning-env",
   "language": "python",
   "name": "python3"
  },
  "language_info": {
   "codemirror_mode": {
    "name": "ipython",
    "version": 3
   },
   "file_extension": ".py",
   "mimetype": "text/x-python",
   "name": "python",
   "nbconvert_exporter": "python",
   "pygments_lexer": "ipython3",
   "version": "3.9.19"
  }
 },
 "nbformat": 4,
 "nbformat_minor": 2
}
